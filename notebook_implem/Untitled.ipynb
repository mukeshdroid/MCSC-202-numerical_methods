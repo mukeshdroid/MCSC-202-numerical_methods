{
 "cells": [
  {
   "cell_type": "code",
   "execution_count": 1,
   "id": "4d3c7d44",
   "metadata": {},
   "outputs": [
    {
     "name": "stdout",
     "output_type": "stream",
     "text": [
      "asn1crypto==0.24.0\r\n",
      "attrs==17.4.0\r\n",
      "Automat==0.6.0\r\n",
      "bleach==2.1.2\r\n",
      "blinker==1.4\r\n",
      "certifi==2018.1.18\r\n",
      "chardet==3.0.4\r\n",
      "click==6.7\r\n",
      "cloud-init==21.4\r\n",
      "colorama==0.3.7\r\n",
      "command-not-found==0.3\r\n",
      "configobj==5.0.6\r\n",
      "constantly==15.1.0\r\n",
      "cryptography==2.1.4\r\n",
      "decorator==4.1.2\r\n",
      "distro-info===0.18ubuntu0.18.04.1\r\n",
      "entrypoints==0.2.3.post1\r\n",
      "html5lib==0.999999999\r\n",
      "httplib2==0.9.2\r\n",
      "hyperlink==17.3.1\r\n",
      "idna==2.6\r\n",
      "incremental==16.10.1\r\n",
      "ipykernel==4.8.2\r\n",
      "ipython==5.5.0\r\n",
      "ipython-genutils==0.2.0\r\n",
      "ipywidgets==6.0.0\r\n",
      "Jinja2==2.10\r\n",
      "jsonpatch==1.16\r\n",
      "jsonpointer==1.10\r\n",
      "jsonschema==2.6.0\r\n",
      "jupyter-client==5.2.2\r\n",
      "jupyter-console==5.2.0\r\n",
      "jupyter-core==4.4.0\r\n",
      "keyring==10.6.0\r\n",
      "keyrings.alt==3.0\r\n",
      "language-selector==0.1\r\n",
      "MarkupSafe==1.0\r\n",
      "mistune==0.8.3\r\n",
      "nbconvert==5.3.1\r\n",
      "nbformat==4.4.0\r\n",
      "netifaces==0.10.4\r\n",
      "notebook==5.2.2\r\n",
      "oauthlib==2.0.6\r\n",
      "PAM==0.4.2\r\n",
      "pandocfilters==1.4.2\r\n",
      "pexpect==4.2.1\r\n",
      "pickleshare==0.7.4\r\n",
      "prompt-toolkit==1.0.15\r\n",
      "pyasn1==0.4.2\r\n",
      "pyasn1-modules==0.2.1\r\n",
      "pycairo==1.16.2\r\n",
      "pycrypto==2.6.1\r\n",
      "Pygments==2.2.0\r\n",
      "pygobject==3.26.1\r\n",
      "PyJWT==1.5.3\r\n",
      "pyOpenSSL==17.5.0\r\n",
      "pyserial==3.4\r\n",
      "python-apt==1.6.5+ubuntu0.7\r\n",
      "python-dateutil==2.6.1\r\n",
      "python-debian==0.1.32\r\n",
      "pyxdg==0.25\r\n",
      "PyYAML==3.12\r\n",
      "pyzmq==16.0.2\r\n",
      "requests==2.18.4\r\n",
      "requests-unixsocket==0.1.5\r\n",
      "SecretStorage==2.3.1\r\n",
      "service-identity==16.0.0\r\n",
      "simplegeneric==0.8.1\r\n",
      "six==1.11.0\r\n",
      "sos==4.1\r\n",
      "ssh-import-id==5.7\r\n",
      "systemd-python==234\r\n",
      "terminado==0.7\r\n",
      "testpath==0.3.1\r\n",
      "tornado==4.5.3\r\n",
      "traitlets==4.3.2\r\n",
      "Twisted==17.9.0\r\n",
      "ubuntu-advantage-tools==27.4\r\n",
      "ufw==0.36\r\n",
      "unattended-upgrades==0.1\r\n",
      "urllib3==1.22\r\n",
      "wcwidth==0.1.7\r\n",
      "webencodings==0.5\r\n",
      "zope.interface==4.3.2\r\n"
     ]
    }
   ],
   "source": [
    "!pip3 freeze"
   ]
  },
  {
   "cell_type": "code",
   "execution_count": 2,
   "id": "bc47824f",
   "metadata": {},
   "outputs": [
    {
     "name": "stdout",
     "output_type": "stream",
     "text": [
      "/usr/bin/pip3\r\n"
     ]
    }
   ],
   "source": [
    "!which pip3\n"
   ]
  },
  {
   "cell_type": "code",
   "execution_count": null,
   "id": "4c1207c8",
   "metadata": {},
   "outputs": [],
   "source": []
  }
 ],
 "metadata": {
  "kernelspec": {
   "display_name": "Python 3 (ipykernel)",
   "language": "python",
   "name": "python3"
  },
  "language_info": {
   "codemirror_mode": {
    "name": "ipython",
    "version": 3
   },
   "file_extension": ".py",
   "mimetype": "text/x-python",
   "name": "python",
   "nbconvert_exporter": "python",
   "pygments_lexer": "ipython3",
   "version": "3.8.10"
  }
 },
 "nbformat": 4,
 "nbformat_minor": 5
}
