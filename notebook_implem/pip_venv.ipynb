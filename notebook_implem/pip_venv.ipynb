{
 "cells": [
  {
   "cell_type": "code",
   "execution_count": 1,
   "id": "4d3c7d44",
   "metadata": {},
   "outputs": [
    {
     "name": "stdout",
     "output_type": "stream",
     "text": [
      "argon2-cffi==21.3.0\r\n",
      "argon2-cffi-bindings==21.2.0\r\n",
      "asttokens==2.0.5\r\n",
      "attrs==21.4.0\r\n",
      "backcall==0.2.0\r\n",
      "black==21.12b0\r\n",
      "bleach==4.1.0\r\n",
      "cffi==1.15.0\r\n",
      "click==8.0.3\r\n",
      "cycler==0.11.0\r\n",
      "debugpy==1.5.1\r\n",
      "decorator==5.1.1\r\n",
      "defusedxml==0.7.1\r\n",
      "entrypoints==0.3\r\n",
      "executing==0.8.2\r\n",
      "fonttools==4.29.0\r\n",
      "importlib-resources==5.4.0\r\n",
      "ipykernel==6.7.0\r\n",
      "ipython==8.0.1\r\n",
      "ipython-genutils==0.2.0\r\n",
      "ipywidgets==7.6.5\r\n",
      "jedi==0.18.1\r\n",
      "Jinja2==3.0.3\r\n",
      "jsonschema==4.4.0\r\n",
      "jupyter==1.0.0\r\n",
      "jupyter-client==7.1.2\r\n",
      "jupyter-console==6.4.0\r\n",
      "jupyter-core==4.9.1\r\n",
      "jupyterlab-pygments==0.1.2\r\n",
      "jupyterlab-widgets==1.0.2\r\n",
      "kiwisolver==1.3.2\r\n",
      "MarkupSafe==2.0.1\r\n",
      "matplotlib==3.5.1\r\n",
      "matplotlib-inline==0.1.3\r\n",
      "mistune==0.8.4\r\n",
      "mpmath==1.2.1\r\n",
      "mypy-extensions==0.4.3\r\n",
      "nbclient==0.5.10\r\n",
      "nbconvert==6.4.0\r\n",
      "nbformat==5.1.3\r\n",
      "nest-asyncio==1.5.4\r\n",
      "notebook==6.4.7\r\n",
      "numpy==1.22.1\r\n",
      "packaging==21.3\r\n",
      "pandocfilters==1.5.0\r\n",
      "parso==0.8.3\r\n",
      "pathspec==0.9.0\r\n",
      "pexpect==4.8.0\r\n",
      "pickleshare==0.7.5\r\n",
      "Pillow==9.0.0\r\n",
      "platformdirs==2.4.1\r\n",
      "prometheus-client==0.12.0\r\n",
      "prompt-toolkit==3.0.24\r\n",
      "ptyprocess==0.7.0\r\n",
      "pure-eval==0.2.2\r\n",
      "pycparser==2.21\r\n",
      "Pygments==2.11.2\r\n",
      "pyparsing==3.0.7\r\n",
      "pyrsistent==0.18.1\r\n",
      "python-dateutil==2.8.2\r\n",
      "pyzmq==22.3.0\r\n",
      "qtconsole==5.2.2\r\n",
      "QtPy==2.0.0\r\n",
      "scipy==1.7.3\r\n",
      "Send2Trash==1.8.0\r\n",
      "six==1.16.0\r\n",
      "stack-data==0.1.4\r\n",
      "sympy==1.9\r\n",
      "tabulate==0.8.9\r\n",
      "terminado==0.12.1\r\n",
      "testpath==0.5.0\r\n",
      "tk==0.1.0\r\n",
      "tomli==1.2.3\r\n",
      "tornado==6.1\r\n",
      "traitlets==5.1.1\r\n",
      "typing-extensions==4.0.1\r\n",
      "wcwidth==0.2.5\r\n",
      "webencodings==0.5.1\r\n",
      "widgetsnbextension==3.5.2\r\n",
      "zipp==3.7.0\r\n"
     ]
    }
   ],
   "source": [
    "!pip3 freeze"
   ]
  },
  {
   "cell_type": "code",
   "execution_count": 2,
   "id": "bc47824f",
   "metadata": {},
   "outputs": [
    {
     "name": "stdout",
     "output_type": "stream",
     "text": [
      "/home/mukesh/pyvenv/mcscvenv/bin/pip3\r\n"
     ]
    }
   ],
   "source": [
    "!which pip3\n"
   ]
  },
  {
   "cell_type": "code",
   "execution_count": null,
   "id": "4c1207c8",
   "metadata": {},
   "outputs": [],
   "source": []
  }
 ],
 "metadata": {
  "kernelspec": {
   "display_name": "mcscvenv",
   "language": "python",
   "name": "mcscvenv"
  },
  "language_info": {
   "codemirror_mode": {
    "name": "ipython",
    "version": 3
   },
   "file_extension": ".py",
   "mimetype": "text/x-python",
   "name": "python",
   "nbconvert_exporter": "python",
   "pygments_lexer": "ipython3",
   "version": "3.8.10"
  }
 },
 "nbformat": 4,
 "nbformat_minor": 5
}
