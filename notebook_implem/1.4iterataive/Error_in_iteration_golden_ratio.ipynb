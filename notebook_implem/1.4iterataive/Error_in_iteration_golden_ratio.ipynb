{
 "cells": [
  {
   "cell_type": "markdown",
   "id": "e5039379",
   "metadata": {},
   "source": [
    "# Error in Itertaive processes due to Rounding off"
   ]
  },
  {
   "cell_type": "markdown",
   "id": "28dc716d",
   "metadata": {},
   "source": [
    "This seems to be very magnified if we consider the negative value of phi instead of this."
   ]
  },
  {
   "cell_type": "markdown",
   "id": "9ca7110f",
   "metadata": {},
   "source": [
    "Date    : 1/21/2022 \n",
    "\n",
    "Author  : Mukesh Tiwari"
   ]
  },
  {
   "cell_type": "markdown",
   "id": "4178d116",
   "metadata": {},
   "source": [
    "The golden ratio $\\phi$ is defined as follows\n",
    "\n",
    "Two numbers $a$ and $b$ (such that $a > b$) are said to be in golden ratio if\n",
    "\n",
    "$$ \\frac{a+b}{a} = \\frac{a}{b} = \\phi$$"
   ]
  },
  {
   "cell_type": "markdown",
   "id": "e8b874e4",
   "metadata": {},
   "source": [
    "We have the relation \n",
    "$$ \\phi^n = \\phi^{n-1} - \\phi^{n-2}  \\\\\n",
    " \\phi^0 = 1 \\\\\n",
    " \\phi = \\frac{1 + \\sqrt{5}}{2} $$"
   ]
  },
  {
   "cell_type": "code",
   "execution_count": 2,
   "id": "d9047e20",
   "metadata": {},
   "outputs": [],
   "source": [
    "import math\n",
    "import matplotlib.pyplot as plt"
   ]
  },
  {
   "cell_type": "code",
   "execution_count": 10,
   "id": "a792fa03",
   "metadata": {},
   "outputs": [],
   "source": [
    "N = 100\n",
    "p = (math.sqrt(5) + 1) * 0.5"
   ]
  },
  {
   "cell_type": "code",
   "execution_count": 11,
   "id": "7773cfcc",
   "metadata": {},
   "outputs": [
    {
     "data": {
      "text/plain": [
       "[1.0,\n",
       " 1.618033988749895,\n",
       " 2.618033988749895,\n",
       " 4.23606797749979,\n",
       " 6.854101966249686,\n",
       " 11.090169943749476,\n",
       " 17.944271909999163,\n",
       " 29.03444185374864,\n",
       " 46.978713763747805,\n",
       " 76.01315561749645,\n",
       " 122.99186938124426,\n",
       " 199.0050249987407,\n",
       " 321.996894379985,\n",
       " 521.0019193787257,\n",
       " 842.9988137587108,\n",
       " 1364.0007331374366,\n",
       " 2206.9995468961474,\n",
       " 3571.000280033584,\n",
       " 5777.999826929732,\n",
       " 9349.000106963316,\n",
       " 15126.999933893048,\n",
       " 24476.000040856365,\n",
       " 39602.999974749415,\n",
       " 64079.00001560579,\n",
       " 103681.99999035521,\n",
       " 167761.000005961,\n",
       " 271442.9999963162,\n",
       " 439204.00000227726,\n",
       " 710646.9999985935,\n",
       " 1149851.0000008708,\n",
       " 1860497.9999994645,\n",
       " 3010349.0000003353,\n",
       " 4870846.9999998,\n",
       " 7881196.000000136,\n",
       " 12752042.999999937,\n",
       " 20633239.000000075,\n",
       " 33385282.00000001,\n",
       " 54018521.00000008,\n",
       " 87403803.0000001,\n",
       " 141422324.00000018,\n",
       " 228826127.0000003,\n",
       " 370248451.00000054,\n",
       " 599074578.0000008,\n",
       " 969323029.0000014,\n",
       " 1568397607.0000024,\n",
       " 2537720636.000004,\n",
       " 4106118243.000006,\n",
       " 6643838879.0000105,\n",
       " 10749957122.000017,\n",
       " 17393796001.00003,\n",
       " 28143753123.000046,\n",
       " 45537549124.00008,\n",
       " 73681302247.00012,\n",
       " 119218851371.00021,\n",
       " 192900153618.00034,\n",
       " 312119004989.00055,\n",
       " 505019158607.001,\n",
       " 817138163596.0016,\n",
       " 1322157322203.0027,\n",
       " 2139295485799.0042,\n",
       " 3461452808002.007,\n",
       " 5600748293801.012,\n",
       " 9062201101803.02,\n",
       " 14662949395604.031,\n",
       " 23725150497407.05,\n",
       " 38388099893011.086,\n",
       " 62113250390418.14,\n",
       " 100501350283429.22,\n",
       " 162614600673847.38,\n",
       " 263115950957276.62,\n",
       " 425730551631124.0,\n",
       " 688846502588400.6,\n",
       " 1114577054219524.8,\n",
       " 1803423556807925.5,\n",
       " 2918000611027450.0,\n",
       " 4721424167835376.0,\n",
       " 7639424778862826.0,\n",
       " 1.2360848946698202e+16,\n",
       " 2.000027372556103e+16,\n",
       " 3.2361122672259236e+16,\n",
       " 5.2361396397820264e+16,\n",
       " 8.47225190700795e+16,\n",
       " 1.3708391546789978e+17,\n",
       " 2.218064345379793e+17,\n",
       " 3.588903500058791e+17,\n",
       " 5.806967845438584e+17,\n",
       " 9.395871345497376e+17,\n",
       " 1.5202839190935962e+18,\n",
       " 2.4598710536433336e+18,\n",
       " 3.98015497273693e+18,\n",
       " 6.440026026380264e+18,\n",
       " 1.0420180999117195e+19,\n",
       " 1.6860207025497459e+19,\n",
       " 2.7280388024614654e+19,\n",
       " 4.4140595050112115e+19,\n",
       " 7.142098307472677e+19,\n",
       " 1.155615781248389e+20,\n",
       " 1.8698256119956567e+20,\n",
       " 3.025441393244046e+20,\n",
       " 4.895267005239703e+20]"
      ]
     },
     "execution_count": 11,
     "metadata": {},
     "output_type": "execute_result"
    }
   ],
   "source": [
    "#First we compute power of golden ratio with numerical values\n",
    "p_arr = [p**i for i in range(0,N)]\n",
    "p_arr"
   ]
  },
  {
   "cell_type": "code",
   "execution_count": 12,
   "id": "6811de11",
   "metadata": {},
   "outputs": [
    {
     "data": {
      "text/plain": [
       "[1,\n",
       " 1.618033988749895,\n",
       " 2.618033988749895,\n",
       " 4.23606797749979,\n",
       " 6.854101966249685,\n",
       " 11.090169943749475,\n",
       " 17.94427190999916,\n",
       " 29.034441853748632,\n",
       " 46.97871376374779,\n",
       " 76.01315561749642,\n",
       " 122.99186938124421,\n",
       " 199.00502499874062,\n",
       " 321.99689437998484,\n",
       " 521.0019193787255,\n",
       " 842.9988137587103,\n",
       " 1364.0007331374359,\n",
       " 2206.999546896146,\n",
       " 3571.000280033582,\n",
       " 5777.999826929728,\n",
       " 9349.00010696331,\n",
       " 15126.99993389304,\n",
       " 24476.00004085635,\n",
       " 39602.999974749386,\n",
       " 64079.000015605736,\n",
       " 103681.99999035512,\n",
       " 167761.00000596087,\n",
       " 271442.999996316,\n",
       " 439204.00000227685,\n",
       " 710646.9999985928,\n",
       " 1149851.0000008696,\n",
       " 1860497.9999994624,\n",
       " 3010349.000000332,\n",
       " 4870846.999999794,\n",
       " 7881196.000000127,\n",
       " 12752042.999999922,\n",
       " 20633239.00000005,\n",
       " 33385281.99999997,\n",
       " 54018521.000000015,\n",
       " 87403802.99999999,\n",
       " 141422324.0,\n",
       " 228826127.0,\n",
       " 370248451.0,\n",
       " 599074578.0,\n",
       " 969323029.0,\n",
       " 1568397607.0,\n",
       " 2537720636.0,\n",
       " 4106118243.0,\n",
       " 6643838879.0,\n",
       " 10749957122.0,\n",
       " 17393796001.0,\n",
       " 28143753123.0,\n",
       " 45537549124.0,\n",
       " 73681302247.0,\n",
       " 119218851371.0,\n",
       " 192900153618.0,\n",
       " 312119004989.0,\n",
       " 505019158607.0,\n",
       " 817138163596.0,\n",
       " 1322157322203.0,\n",
       " 2139295485799.0,\n",
       " 3461452808002.0,\n",
       " 5600748293801.0,\n",
       " 9062201101803.0,\n",
       " 14662949395604.0,\n",
       " 23725150497407.0,\n",
       " 38388099893011.0,\n",
       " 62113250390418.0,\n",
       " 100501350283429.0,\n",
       " 162614600673847.0,\n",
       " 263115950957276.0,\n",
       " 425730551631123.0,\n",
       " 688846502588399.0,\n",
       " 1114577054219522.0,\n",
       " 1803423556807921.0,\n",
       " 2918000611027443.0,\n",
       " 4721424167835364.0,\n",
       " 7639424778862807.0,\n",
       " 1.2360848946698172e+16,\n",
       " 2.000027372556098e+16,\n",
       " 3.236112267225915e+16,\n",
       " 5.236139639782013e+16,\n",
       " 8.472251907007928e+16,\n",
       " 1.3708391546789941e+17,\n",
       " 2.218064345379787e+17,\n",
       " 3.588903500058781e+17,\n",
       " 5.806967845438568e+17,\n",
       " 9.395871345497349e+17,\n",
       " 1.5202839190935916e+18,\n",
       " 2.4598710536433265e+18,\n",
       " 3.980154972736918e+18,\n",
       " 6.440026026380245e+18,\n",
       " 1.0420180999117162e+19,\n",
       " 1.6860207025497407e+19,\n",
       " 2.7280388024614568e+19,\n",
       " 4.4140595050111975e+19,\n",
       " 7.142098307472654e+19,\n",
       " 1.1556157812483852e+20,\n",
       " 1.8698256119956505e+20,\n",
       " 3.0254413932440355e+20,\n",
       " 4.895267005239686e+20]"
      ]
     },
     "execution_count": 12,
     "metadata": {},
     "output_type": "execute_result"
    }
   ],
   "source": [
    "#Iterative computation of powers of golden ratio\n",
    "p_iter = [1 , p]\n",
    "for i in range(2,N):\n",
    "    p_iter.append(p_iter[i-1] + p_iter[i-2])\n",
    "p_iter"
   ]
  },
  {
   "cell_type": "code",
   "execution_count": 13,
   "id": "96913d6c",
   "metadata": {},
   "outputs": [
    {
     "data": {
      "image/png": "[encoded data removed]",
      "text/plain": [
       "<Figure size 432x288 with 1 Axes>"
      ]
     },
     "metadata": {
      "needs_background": "light"
     },
     "output_type": "display_data"
    }
   ],
   "source": [
    "plt.plot(range(0,N), p_arr , 'r')\n",
    "plt.plot(range(0,N), p_iter , 'b')\n",
    "plt.show()"
   ]
  },
  {
   "cell_type": "code",
   "execution_count": 15,
   "id": "8022f16c",
   "metadata": {},
   "outputs": [
    {
     "data": {
      "image/png": "[encoded data removed]",
      "text/plain": [
       "<Figure size 432x288 with 1 Axes>"
      ]
     },
     "metadata": {
      "needs_background": "light"
     },
     "output_type": "display_data"
    }
   ],
   "source": [
    "#make log plots\n",
    "\n",
    "p_arr_log = [math.log(i) for i in p_arr]\n",
    "p_iter_log = [math.log(abs(i)) for i in p_iter]\n",
    "\n",
    "plt.plot(range(0,N), p_arr_log , 'r')\n",
    "plt.plot(range(0,N), p_iter_log , 'b')\n",
    "plt.show()"
   ]
  },
  {
   "cell_type": "markdown",
   "id": "8cd5458a",
   "metadata": {},
   "source": [
    "The values are obtained by the direct computationa nd iterrtaivd formula are almost identical. see \n",
    "[this notebook](http://localhost:8888/notebooks/fourth_sem/MCSC-202-Numerical/notebook_implem/Error_in_iteration_negative_golden_ratio.ipynb) for a case where iteration is not stable."
   ]
  },
  {
   "cell_type": "code",
   "execution_count": null,
   "id": "48b298b7",
   "metadata": {},
   "outputs": [],
   "source": []
  }
 ],
 "metadata": {
  "kernelspec": {
   "display_name": "Python 3 (ipykernel)",
   "language": "python",
   "name": "python3"
  },
  "language_info": {
   "codemirror_mode": {
    "name": "ipython",
    "version": 3
   },
   "file_extension": ".py",
   "mimetype": "text/x-python",
   "name": "python",
   "nbconvert_exporter": "python",
   "pygments_lexer": "ipython3",
   "version": "3.8.10"
  }
 },
 "nbformat": 4,
 "nbformat_minor": 5
}
