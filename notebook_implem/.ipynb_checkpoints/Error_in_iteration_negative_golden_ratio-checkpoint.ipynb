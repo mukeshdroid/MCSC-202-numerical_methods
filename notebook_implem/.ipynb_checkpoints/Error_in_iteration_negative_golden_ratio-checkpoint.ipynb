{
 "cells": [
  {
   "cell_type": "markdown",
   "id": "16df184e",
   "metadata": {},
   "source": [
    "# Error in Itertaive processes due to Rounding off"
   ]
  },
  {
   "cell_type": "markdown",
   "id": "70907725",
   "metadata": {},
   "source": [
    "Date    : 1/21/2022 \n",
    "Author  : Mukesh Tiwari"
   ]
  },
  {
   "cell_type": "markdown",
   "id": "92e67ee9",
   "metadata": {},
   "source": [
    "consider the equation \n",
    "$$ x^2 + x - 1 = 0$$\n",
    "The solutions are \n",
    "\n",
    "$$ x = \\frac{\\sqrt{5} - 1}{2}$$   or $$ x = \\frac{-\\sqrt{5} - 1}{2}$$ "
   ]
  },
  {
   "cell_type": "markdown",
   "id": "856a3664",
   "metadata": {},
   "source": [
    "We have the recurrance relation \n",
    "$$ x^n = x^{n-2} - x^{n-1}$$\n",
    "The initial two conditions are\n",
    "\n",
    "$$ x^0 = 1 \\\\\n",
    " x = \\frac{\\sqrt{5} - 1}{2} $$"
   ]
  },
  {
   "cell_type": "code",
   "execution_count": 47,
   "id": "96eb9cd0",
   "metadata": {},
   "outputs": [],
   "source": [
    "import math\n",
    "import matplotlib.pyplot as plt\n",
    "%config Completer.use_jedi = False"
   ]
  },
  {
   "cell_type": "code",
   "execution_count": 48,
   "id": "057dff75",
   "metadata": {},
   "outputs": [],
   "source": [
    "N = 100\n",
    "p = (math.sqrt(5) - 1) * 0.5"
   ]
  },
  {
   "cell_type": "code",
   "execution_count": 49,
   "id": "b6a6bc69",
   "metadata": {},
   "outputs": [
    {
     "data": {
      "text/plain": [
       "[1.0,\n",
       " 0.6180339887498949,\n",
       " 0.3819660112501052,\n",
       " 0.23606797749978975,\n",
       " 0.14589803375031551,\n",
       " 0.09016994374947428,\n",
       " 0.055728090000841245,\n",
       " 0.034441853748633046,\n",
       " 0.021286236252208202,\n",
       " 0.013155617496424849,\n",
       " 0.008130618755783355,\n",
       " 0.005024998740641495,\n",
       " 0.0031056200151418616,\n",
       " 0.001919378725499634,\n",
       " 0.0011862412896422284,\n",
       " 0.0007331374358574057,\n",
       " 0.00045310385378482274,\n",
       " 0.0002800335820725831,\n",
       " 0.00017307027171223962,\n",
       " 0.00010696331036034356,\n",
       " 6.610696135189609e-05,\n",
       " 4.0856349008447484e-05,\n",
       " 2.5250612343448612e-05,\n",
       " 1.5605736664998876e-05,\n",
       " 9.644875678449738e-06,\n",
       " 5.9608609865491405e-06,\n",
       " 3.6840146919005987e-06,\n",
       " 2.276846294648542e-06,\n",
       " 1.407168397252057e-06,\n",
       " 8.696778973964854e-07,\n",
       " 5.374904998555718e-07,\n",
       " 3.321873975409138e-07,\n",
       " 2.05303102314658e-07,\n",
       " 1.2688429522625587e-07,\n",
       " 7.841880708840217e-08,\n",
       " 4.846548813785372e-08,\n",
       " 2.995331895054845e-08,\n",
       " 1.8512169187305274e-08,\n",
       " 1.1441149763243178e-08,\n",
       " 7.071019424062098e-09,\n",
       " 4.370130339181083e-09,\n",
       " 2.7008890848810156e-09,\n",
       " 1.6692412543000677e-09,\n",
       " 1.0316478305809485e-09,\n",
       " 6.375934237191193e-10,\n",
       " 3.940544068618292e-10,\n",
       " 2.4353901685729027e-10,\n",
       " 1.50515390004539e-10,\n",
       " 9.302362685275129e-11,\n",
       " 5.7491763151787717e-11,\n",
       " 3.5531863700963593e-11,\n",
       " 2.195989945082413e-11,\n",
       " 1.3571964250139463e-11,\n",
       " 8.38793520068467e-12,\n",
       " 5.184029049454796e-12,\n",
       " 3.203906151229874e-12,\n",
       " 1.9801228982249232e-12,\n",
       " 1.2237832530049514e-12,\n",
       " 7.563396452199719e-13,\n",
       " 4.674436077849796e-13,\n",
       " 2.8889603743499235e-13,\n",
       " 1.785475703499873e-13,\n",
       " 1.1034846708500511e-13,\n",
       " 6.81991032649822e-14,\n",
       " 4.214936382002293e-14,\n",
       " 2.6049739444959278e-14,\n",
       " 1.6099624375063656e-14,\n",
       " 9.950115069895625e-15,\n",
       " 6.149509305168033e-15,\n",
       " 3.800605764727594e-15,\n",
       " 2.3489035404404397e-15,\n",
       " 1.4517022242871548e-15,\n",
       " 8.972013161532849e-16,\n",
       " 5.545009081338702e-16,\n",
       " 3.427004080194148e-16,\n",
       " 2.1180050011445543e-16,\n",
       " 1.3089990790495946e-16,\n",
       " 8.090059220949599e-17,\n",
       " 4.999931569546348e-17,\n",
       " 3.090127651403252e-17,\n",
       " 1.9098039181430966e-17,\n",
       " 1.1803237332601557e-17,\n",
       " 7.29480184882941e-18,\n",
       " 4.5084354837721484e-18,\n",
       " 2.786366365057263e-18,\n",
       " 1.722069118714886e-18,\n",
       " 1.0642972463423773e-18,\n",
       " 6.57771872372509e-19,\n",
       " 4.065253739698685e-19,\n",
       " 2.5124649840264053e-19,\n",
       " 1.5527887556722803e-19,\n",
       " 9.596762283541253e-20,\n",
       " 5.931125273181551e-20,\n",
       " 3.665637010359704e-20,\n",
       " 2.2654882628218476e-20,\n",
       " 1.4001487475378568e-20,\n",
       " 8.653395152839912e-21,\n",
       " 5.348092322538657e-21,\n",
       " 3.3053028303012557e-21,\n",
       " 2.042789492237402e-21]"
      ]
     },
     "execution_count": 49,
     "metadata": {},
     "output_type": "execute_result"
    }
   ],
   "source": [
    "#First we compute power of golden ratio with numerical values\n",
    "p_arr = [p**i for i in range(0,N)]\n",
    "p_arr"
   ]
  },
  {
   "cell_type": "code",
   "execution_count": 50,
   "id": "18f8443d",
   "metadata": {},
   "outputs": [
    {
     "data": {
      "text/plain": [
       "[1,\n",
       " 0.6180339887498949,\n",
       " 0.3819660112501051,\n",
       " 0.2360679774997898,\n",
       " 0.1458980337503153,\n",
       " 0.09016994374947451,\n",
       " 0.05572809000084078,\n",
       " 0.03444185374863373,\n",
       " 0.021286236252207047,\n",
       " 0.013155617496426686,\n",
       " 0.008130618755780361,\n",
       " 0.005024998740646325,\n",
       " 0.0031056200151340363,\n",
       " 0.0019193787255122885,\n",
       " 0.0011862412896217478,\n",
       " 0.0007331374358905407,\n",
       " 0.0004531038537312071,\n",
       " 0.0002800335821593336,\n",
       " 0.0001730702715718735,\n",
       " 0.00010696331058746011,\n",
       " 6.610696098441338e-05,\n",
       " 4.085634960304674e-05,\n",
       " 2.525061138136664e-05,\n",
       " 1.56057382216801e-05,\n",
       " 9.64487315968654e-06,\n",
       " 5.960865061993559e-06,\n",
       " 3.684008097692981e-06,\n",
       " 2.2768569643005776e-06,\n",
       " 1.4071511333924036e-06,\n",
       " 8.69705830908174e-07,\n",
       " 5.374453024842296e-07,\n",
       " 3.322605284239444e-07,\n",
       " 2.0518477406028524e-07,\n",
       " 1.2707575436365914e-07,\n",
       " 7.810901969662609e-08,\n",
       " 4.896673466703305e-08,\n",
       " 2.914228502959304e-08,\n",
       " 1.982444963744001e-08,\n",
       " 9.317835392153029e-09,\n",
       " 1.0506614245286983e-08,\n",
       " -1.1887788531339538e-09,\n",
       " 1.1695393098420936e-08,\n",
       " -1.288417195155489e-08,\n",
       " 2.4579565049975827e-08,\n",
       " -3.746373700153072e-08,\n",
       " 6.204330205150654e-08,\n",
       " -9.950703905303726e-08,\n",
       " 1.615503411045438e-07,\n",
       " -2.6105738015758106e-07,\n",
       " 4.2260772126212487e-07,\n",
       " -6.836651014197059e-07,\n",
       " 1.1062728226818308e-06,\n",
       " -1.7899379241015367e-06,\n",
       " 2.8962107467833675e-06,\n",
       " -4.686148670884904e-06,\n",
       " 7.582359417668272e-06,\n",
       " -1.2268508088553176e-05,\n",
       " 1.9850867506221448e-05,\n",
       " -3.2119375594774624e-05,\n",
       " 5.197024310099607e-05,\n",
       " -8.40896186957707e-05,\n",
       " 0.00013605986179676677,\n",
       " -0.00022014948049253746,\n",
       " 0.00035620934228930423,\n",
       " -0.0005763588227818417,\n",
       " 0.0009325681650711459,\n",
       " -0.0015089269878529876,\n",
       " 0.0024414951529241335,\n",
       " -0.003950422140777121,\n",
       " 0.006391917293701255,\n",
       " -0.010342339434478376,\n",
       " 0.01673425672817963,\n",
       " -0.027076596162658007,\n",
       " 0.04381085289083764,\n",
       " -0.07088744905349564,\n",
       " 0.11469830194433328,\n",
       " -0.18558575099782892,\n",
       " 0.3002840529421622,\n",
       " -0.48586980393999113,\n",
       " 0.7861538568821533,\n",
       " -1.2720236608221445,\n",
       " 2.058177517704298,\n",
       " -3.3302011785264423,\n",
       " 5.38837869623074,\n",
       " -8.718579874757182,\n",
       " 14.106958570987922,\n",
       " -22.825538445745103,\n",
       " 36.93249701673302,\n",
       " -59.75803546247813,\n",
       " 96.69053247921116,\n",
       " -156.44856794168928,\n",
       " 253.13910042090043,\n",
       " -409.58766836258974,\n",
       " 662.7267687834901,\n",
       " -1072.3144371460799,\n",
       " 1735.04120592957,\n",
       " -2807.35564307565,\n",
       " 4542.396849005219,\n",
       " -7349.752492080869,\n",
       " 11892.14934108609]"
      ]
     },
     "execution_count": 50,
     "metadata": {},
     "output_type": "execute_result"
    }
   ],
   "source": [
    "#Iterative computation of powers of golden ratio\n",
    "p_iter = [1 , p]\n",
    "for i in range(2,N):\n",
    "    p_iter.append(p_iter[i-2] - p_iter[i-1])\n",
    "p_iter"
   ]
  },
  {
   "cell_type": "code",
   "execution_count": 51,
   "id": "84831530",
   "metadata": {},
   "outputs": [
    {
     "data": {
      "image/png": "[encoded data removed]",
      "text/plain": [
       "<Figure size 432x288 with 1 Axes>"
      ]
     },
     "metadata": {
      "needs_background": "light"
     },
     "output_type": "display_data"
    }
   ],
   "source": [
    "plt.plot(range(0,N), p_arr , 'r')\n",
    "plt.plot(range(0,N), p_iter , 'b')\n",
    "plt.show()"
   ]
  },
  {
   "cell_type": "code",
   "execution_count": 52,
   "id": "c2f6c7d2",
   "metadata": {},
   "outputs": [],
   "source": [
    "#make log plots\n",
    "\n",
    "p_arr_log = [math.log(i) for i in p_arr]\n",
    "p_iter_log = [math.log(abs(i)) for i in p_iter]"
   ]
  },
  {
   "cell_type": "code",
   "execution_count": 53,
   "id": "dc46ff77",
   "metadata": {},
   "outputs": [
    {
     "data": {
      "image/png": "[encoded data removed]",
      "text/plain": [
       "<Figure size 432x288 with 1 Axes>"
      ]
     },
     "metadata": {
      "needs_background": "light"
     },
     "output_type": "display_data"
    }
   ],
   "source": [
    "plt.plot(range(0,N), p_arr_log , 'r')\n",
    "plt.plot(range(0,N), p_iter_log , 'b')\n",
    "plt.show()"
   ]
  }
 ],
 "metadata": {
  "kernelspec": {
   "display_name": "Python 3 (ipykernel)",
   "language": "python",
   "name": "python3"
  },
  "language_info": {
   "codemirror_mode": {
    "name": "ipython",
    "version": 3
   },
   "file_extension": ".py",
   "mimetype": "text/x-python",
   "name": "python",
   "nbconvert_exporter": "python",
   "pygments_lexer": "ipython3",
   "version": "3.8.10"
  }
 },
 "nbformat": 4,
 "nbformat_minor": 5
}
