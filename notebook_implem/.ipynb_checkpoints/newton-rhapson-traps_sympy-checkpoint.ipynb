{
 "cells": [
  {
   "cell_type": "markdown",
   "id": "4ec407aa",
   "metadata": {},
   "source": [
    "# Loops in Newton-Rhapson using sympy"
   ]
  },
  {
   "cell_type": "markdown",
   "id": "ed515a98",
   "metadata": {},
   "source": [
    "Date    : 02/01/2022 \n",
    "\n",
    "Author  : Mukesh Tiwari"
   ]
  },
  {
   "cell_type": "code",
   "execution_count": 1,
   "id": "251ebf61",
   "metadata": {},
   "outputs": [],
   "source": [
    "import sympy as sp\n",
    "from sympy.solvers import solve"
   ]
  },
  {
   "cell_type": "code",
   "execution_count": 3,
   "id": "6d9d0c71",
   "metadata": {},
   "outputs": [],
   "source": [
    "def func(x):\n",
    "    return x**3 - x\n"
   ]
  },
  {
   "cell_type": "code",
   "execution_count": 3,
   "id": "5c70dab7",
   "metadata": {},
   "outputs": [
    {
     "data": {
      "text/latex": [
       "$\\displaystyle 3 x^{2} - 1$"
      ],
      "text/plain": [
       "3*x**2 - 1"
      ]
     },
     "execution_count": 3,
     "metadata": {},
     "output_type": "execute_result"
    }
   ],
   "source": [
    "x = sp.Symbol('x')\n",
    "f = x**3 - x \n",
    "f_der = sp.diff(f,x)\n",
    "\n",
    "f_der\n"
   ]
  },
  {
   "cell_type": "code",
   "execution_count": 29,
   "id": "366ad471",
   "metadata": {},
   "outputs": [
    {
     "data": {
      "text/latex": [
       "$\\displaystyle \\frac{2 x^{3}}{3 x^{2} - 1}$"
      ],
      "text/plain": [
       "2*x**3/(3*x**2 - 1)"
      ]
     },
     "execution_count": 29,
     "metadata": {},
     "output_type": "execute_result"
    }
   ],
   "source": [
    "g = x - f/f_der\n",
    "sp.simplify(g)"
   ]
  },
  {
   "cell_type": "code",
   "execution_count": 31,
   "id": "24f34241",
   "metadata": {},
   "outputs": [
    {
     "data": {
      "text/latex": [
       "$\\displaystyle \\frac{16 x^{9}}{36 x^{8} - 39 x^{6} + 27 x^{4} - 9 x^{2} + 1}$"
      ],
      "text/plain": [
       "16*x**9/(36*x**8 - 39*x**6 + 27*x**4 - 9*x**2 + 1)"
      ]
     },
     "execution_count": 31,
     "metadata": {},
     "output_type": "execute_result"
    }
   ],
   "source": [
    "sp.simplify(g.subs(x,g))"
   ]
  },
  {
   "cell_type": "code",
   "execution_count": 32,
   "id": "aab91a46",
   "metadata": {},
   "outputs": [
    {
     "data": {
      "text/latex": [
       "$\\displaystyle \\frac{8192 x^{27}}{27648 x^{26} - 76608 x^{24} + 172368 x^{22} - 276156 x^{20} + 322527 x^{18} - 281637 x^{16} + 187272 x^{14} - 95688 x^{12} + 37422 x^{10} - 10962 x^{8} + 2304 x^{6} - 324 x^{4} + 27 x^{2} - 1}$"
      ],
      "text/plain": [
       "8192*x**27/(27648*x**26 - 76608*x**24 + 172368*x**22 - 276156*x**20 + 322527*x**18 - 281637*x**16 + 187272*x**14 - 95688*x**12 + 37422*x**10 - 10962*x**8 + 2304*x**6 - 324*x**4 + 27*x**2 - 1)"
      ]
     },
     "execution_count": 32,
     "metadata": {},
     "output_type": "execute_result"
    }
   ],
   "source": [
    "phi = sp.simplify(g.subs(x,(g.subs(x,g))))"
   ]
  },
  {
   "cell_type": "code",
   "execution_count": 4,
   "id": "fd1018c6",
   "metadata": {},
   "outputs": [
    {
     "data": {
      "text/plain": [
       "[-1, 1]"
      ]
     },
     "execution_count": 4,
     "metadata": {},
     "output_type": "execute_result"
    }
   ],
   "source": [
    "solve(x, x)"
   ]
  },
  {
   "cell_type": "code",
   "execution_count": null,
   "id": "c0293d49",
   "metadata": {},
   "outputs": [],
   "source": []
  }
 ],
 "metadata": {
  "kernelspec": {
   "display_name": "mcscvenv",
   "language": "python",
   "name": "mcscvenv"
  },
  "language_info": {
   "codemirror_mode": {
    "name": "ipython",
    "version": 3
   },
   "file_extension": ".py",
   "mimetype": "text/x-python",
   "name": "python",
   "nbconvert_exporter": "python",
   "pygments_lexer": "ipython3",
   "version": "3.8.10"
  }
 },
 "nbformat": 4,
 "nbformat_minor": 5
}
