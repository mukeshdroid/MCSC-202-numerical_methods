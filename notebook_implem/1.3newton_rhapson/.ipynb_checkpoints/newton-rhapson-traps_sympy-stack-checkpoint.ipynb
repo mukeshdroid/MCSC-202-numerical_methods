{
 "cells": [
  {
   "cell_type": "markdown",
   "id": "4ec407aa",
   "metadata": {},
   "source": [
    "# Loops in Newton-Rhapson using sympy\n",
    "[hint taken from this ques in stack exhange](https://math.stackexchange.com/questions/2407659/why-does-the-newton-raphson-method-not-converge-for-some-functions)"
   ]
  },
  {
   "cell_type": "markdown",
   "id": "ed515a98",
   "metadata": {},
   "source": [
    "Date    : 02/01/2022 \n",
    "\n",
    "Author  : Mukesh Tiwari"
   ]
  },
  {
   "cell_type": "code",
   "execution_count": 1,
   "id": "251ebf61",
   "metadata": {},
   "outputs": [],
   "source": [
    "import sympy as sy\n",
    "from sympy.solvers import solve\n",
    "from sympy import Eq , lambdify\n",
    "import scipy as sp\n",
    "import scipy.optimize\n",
    "import matplotlib.pyplot as plt\n",
    "import numpy as np\n",
    "\n",
    "%matplotlib notebook"
   ]
  },
  {
   "cell_type": "code",
   "execution_count": 2,
   "id": "4ad3e64d",
   "metadata": {},
   "outputs": [
    {
     "data": {
      "text/latex": [
       "$\\displaystyle - 3.55 x^{3} + 1.1 x^{2} + 0.765 x - 0.74$"
      ],
      "text/plain": [
       "-3.55*x**3 + 1.1*x**2 + 0.765*x - 0.74"
      ]
     },
     "execution_count": 2,
     "metadata": {},
     "output_type": "execute_result"
    }
   ],
   "source": [
    "x = sy.Symbol('x')\n",
    "f = -3.55*x**3 + 1.1 * x**2 + 0.765*x - 0.74 \n",
    "f"
   ]
  },
  {
   "cell_type": "code",
   "execution_count": 3,
   "id": "5c70dab7",
   "metadata": {},
   "outputs": [
    {
     "data": {
      "text/latex": [
       "$\\displaystyle - 10.65 x^{2} + 2.2 x + 0.765$"
      ],
      "text/plain": [
       "-10.65*x**2 + 2.2*x + 0.765"
      ]
     },
     "execution_count": 3,
     "metadata": {},
     "output_type": "execute_result"
    }
   ],
   "source": [
    "f_der = sy.diff(f,x)\n",
    "f_der"
   ]
  },
  {
   "cell_type": "code",
   "execution_count": 4,
   "id": "366ad471",
   "metadata": {},
   "outputs": [
    {
     "data": {
      "text/latex": [
       "$\\displaystyle \\frac{7.1 x^{3} - 1.1 x^{2} - 0.74}{10.65 x^{2} - 2.2 x - 0.765}$"
      ],
      "text/plain": [
       "(7.1*x**3 - 1.1*x**2 - 0.74)/(10.65*x**2 - 2.2*x - 0.765)"
      ]
     },
     "execution_count": 4,
     "metadata": {},
     "output_type": "execute_result"
    }
   ],
   "source": [
    "g = x - f/f_der\n",
    "sy.simplify(g)"
   ]
  },
  {
   "cell_type": "code",
   "execution_count": 5,
   "id": "24f34241",
   "metadata": {},
   "outputs": [
    {
     "data": {
      "text/latex": [
       "$\\displaystyle \\frac{238.607333333333 x^{13} - 264.932555555555 x^{12} + 90.4497925925926 x^{11} - 155.372794444444 x^{10} + 143.636029097548 x^{9} - 17.2588378110972 x^{8} - 13.2032285917966 x^{7} - 0.877943456984391 x^{6} + 1.73119881875227 x^{5} - 0.110419774634073 x^{4} - 0.0212409432981529 x^{3} + 0.0200469843048065 x^{2} - 0.00378312552124225 x - 0.00101013133071769}{536.8665 x^{12} - 665.412 x^{11} + 145.4763375 x^{10} + 11.2494055555555 x^{9} + 62.506883135759 x^{8} - 30.7649803896199 x^{7} - 0.475146330305551 x^{6} + 1.0405674184414 x^{5} - 0.367459561466333 x^{4} + 0.186066772342876 x^{3} + 0.0302787802692743 x^{2} - 0.0109523223119016 x - 0.00153395395277492}$"
      ],
      "text/plain": [
       "(238.607333333333*x**13 - 264.932555555555*x**12 + 90.4497925925926*x**11 - 155.372794444444*x**10 + 143.636029097548*x**9 - 17.2588378110972*x**8 - 13.2032285917966*x**7 - 0.877943456984391*x**6 + 1.73119881875227*x**5 - 0.110419774634073*x**4 - 0.0212409432981529*x**3 + 0.0200469843048065*x**2 - 0.00378312552124225*x - 0.00101013133071769)/(536.8665*x**12 - 665.412*x**11 + 145.4763375*x**10 + 11.2494055555555*x**9 + 62.506883135759*x**8 - 30.7649803896199*x**7 - 0.475146330305551*x**6 + 1.0405674184414*x**5 - 0.367459561466333*x**4 + 0.186066772342876*x**3 + 0.0302787802692743*x**2 - 0.0109523223119016*x - 0.00153395395277492)"
      ]
     },
     "execution_count": 5,
     "metadata": {},
     "output_type": "execute_result"
    }
   ],
   "source": [
    "sy.simplify(g.subs(x,g))"
   ]
  },
  {
   "cell_type": "code",
   "execution_count": null,
   "id": "aab91a46",
   "metadata": {},
   "outputs": [],
   "source": [
    "phi1 = sy.simplify(g.subs(x,(g.subs(x,g))))\n",
    "phi1"
   ]
  },
  {
   "cell_type": "code",
   "execution_count": null,
   "id": "da87cc8c",
   "metadata": {},
   "outputs": [],
   "source": [
    "eq1 = Eq(phi1-x,0)\n",
    "eq1.lhs"
   ]
  },
  {
   "cell_type": "code",
   "execution_count": null,
   "id": "8ddf6c02",
   "metadata": {},
   "outputs": [],
   "source": [
    "func = sy.lambdify(x,eq1.lhs)\n",
    "func"
   ]
  },
  {
   "cell_type": "code",
   "execution_count": null,
   "id": "6293f716",
   "metadata": {},
   "outputs": [],
   "source": [
    "func(-0.5846)"
   ]
  },
  {
   "cell_type": "code",
   "execution_count": null,
   "id": "cc6da59e",
   "metadata": {
    "scrolled": false
   },
   "outputs": [],
   "source": [
    "xval = np.linspace(-2,3,100000)\n",
    "yval = func(xval)\n",
    "xaxis = np.zeros(len(xval))\n",
    "plt.plot(xval,yval)\n",
    "plt.plot(xval,xaxis)\n",
    "plt.show()"
   ]
  },
  {
   "cell_type": "code",
   "execution_count": null,
   "id": "a729b3f2",
   "metadata": {},
   "outputs": [],
   "source": [
    "sol = sp.optimize.root(func, -0.517 )"
   ]
  },
  {
   "cell_type": "code",
   "execution_count": null,
   "id": "579e163d",
   "metadata": {},
   "outputs": [],
   "source": [
    "sol.x"
   ]
  },
  {
   "cell_type": "code",
   "execution_count": null,
   "id": "bda1168b",
   "metadata": {},
   "outputs": [],
   "source": [
    "sol1 = sp.optimize.root(func, 0.55)\n",
    "\n",
    "sol1.x"
   ]
  },
  {
   "cell_type": "code",
   "execution_count": null,
   "id": "5d4f9fa3",
   "metadata": {},
   "outputs": [],
   "source": [
    "sy.solve(eq1, x)"
   ]
  },
  {
   "cell_type": "code",
   "execution_count": null,
   "id": "6364eeed",
   "metadata": {},
   "outputs": [],
   "source": [
    "f = sp.lambdify(x, sp.nsolve(),\"numpy\")"
   ]
  },
  {
   "cell_type": "code",
   "execution_count": null,
   "id": "9e2c7b2a",
   "metadata": {},
   "outputs": [],
   "source": []
  }
 ],
 "metadata": {
  "kernelspec": {
   "display_name": "mcscvenv",
   "language": "python",
   "name": "mcscvenv"
  },
  "language_info": {
   "codemirror_mode": {
    "name": "ipython",
    "version": 3
   },
   "file_extension": ".py",
   "mimetype": "text/x-python",
   "name": "python",
   "nbconvert_exporter": "python",
   "pygments_lexer": "ipython3",
   "version": "3.8.10"
  }
 },
 "nbformat": 4,
 "nbformat_minor": 5
}
