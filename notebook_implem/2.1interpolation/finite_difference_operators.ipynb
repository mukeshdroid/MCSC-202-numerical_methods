{
 "cells": [
  {
   "cell_type": "markdown",
   "id": "9afffb42",
   "metadata": {},
   "source": [
    "\n",
    "# Interpolation\n"
   ]
  },
  {
   "cell_type": "markdown",
   "id": "596521de",
   "metadata": {},
   "source": [
    "Author : Mukesh Tiwari\n",
    "Date : 27/02/2022"
   ]
  },
  {
   "cell_type": "code",
   "execution_count": 1,
   "id": "55ed6de0",
   "metadata": {},
   "outputs": [
    {
     "name": "stdout",
     "output_type": "stream",
     "text": [
      "The history saving thread hit an unexpected error (DatabaseError('database disk image is malformed')).History will not be written to the database.\n"
     ]
    }
   ],
   "source": [
    "from prettytable import PrettyTable"
   ]
  },
  {
   "cell_type": "code",
   "execution_count": 2,
   "id": "fed74406",
   "metadata": {},
   "outputs": [],
   "source": [
    "y = [0,5,7,9,2]"
   ]
  },
  {
   "cell_type": "markdown",
   "id": "3beabe27",
   "metadata": {},
   "source": [
    "$$ \\Delta^{n}(y_{i}) = \\text{ fdiff } (y,n,i)$$\n",
    "\n",
    "$$ \\nabla^{n}(y_{i}) = \\text{ bdiff } (y,n,i)$$\n",
    "\n",
    "$$ \\delta^{n}(y_{i}) = \\text{ cdiff } (y,n,i)$$"
   ]
  },
  {
   "cell_type": "markdown",
   "id": "87b4b2e5",
   "metadata": {},
   "source": [
    "For Forward Difference\n",
    "$$ \\Delta^{n}(y_{i}) = \\Delta^{n-1}(y_{i+1} - y_{i})$$\n"
   ]
  },
  {
   "cell_type": "code",
   "execution_count": 3,
   "id": "c9a8e6d8",
   "metadata": {},
   "outputs": [],
   "source": [
    "#Implementing forward differnce operator\n",
    "\n",
    "def fdiff(y, n ,i):\n",
    "    if n == 0:\n",
    "        return y[i]\n",
    "    \n",
    "    return fdiff(y,n-1,i+1) - fdiff(y,n-1,i)\n",
    "    "
   ]
  },
  {
   "cell_type": "code",
   "execution_count": 4,
   "id": "153b7dc6",
   "metadata": {},
   "outputs": [
    {
     "ename": "IndexError",
     "evalue": "list index out of range",
     "output_type": "error",
     "traceback": [
      "\u001b[0;31m---------------------------------------------------------------------------\u001b[0m",
      "\u001b[0;31mIndexError\u001b[0m                                Traceback (most recent call last)",
      "Input \u001b[0;32mIn [4]\u001b[0m, in \u001b[0;36m<module>\u001b[0;34m\u001b[0m\n\u001b[0;32m----> 1\u001b[0m \u001b[43mfdiff\u001b[49m\u001b[43m(\u001b[49m\u001b[43my\u001b[49m\u001b[43m,\u001b[49m\u001b[38;5;241;43m1\u001b[39;49m\u001b[43m,\u001b[49m\u001b[38;5;241;43m4\u001b[39;49m\u001b[43m)\u001b[49m\n",
      "Input \u001b[0;32mIn [3]\u001b[0m, in \u001b[0;36mfdiff\u001b[0;34m(y, n, i)\u001b[0m\n\u001b[1;32m      4\u001b[0m \u001b[38;5;28;01mif\u001b[39;00m n \u001b[38;5;241m==\u001b[39m \u001b[38;5;241m0\u001b[39m:\n\u001b[1;32m      5\u001b[0m     \u001b[38;5;28;01mreturn\u001b[39;00m y[i]\n\u001b[0;32m----> 7\u001b[0m \u001b[38;5;28;01mreturn\u001b[39;00m \u001b[43mfdiff\u001b[49m\u001b[43m(\u001b[49m\u001b[43my\u001b[49m\u001b[43m,\u001b[49m\u001b[43mn\u001b[49m\u001b[38;5;241;43m-\u001b[39;49m\u001b[38;5;241;43m1\u001b[39;49m\u001b[43m,\u001b[49m\u001b[43mi\u001b[49m\u001b[38;5;241;43m+\u001b[39;49m\u001b[38;5;241;43m1\u001b[39;49m\u001b[43m)\u001b[49m \u001b[38;5;241m-\u001b[39m fdiff(y,n\u001b[38;5;241m-\u001b[39m\u001b[38;5;241m1\u001b[39m,i)\n",
      "Input \u001b[0;32mIn [3]\u001b[0m, in \u001b[0;36mfdiff\u001b[0;34m(y, n, i)\u001b[0m\n\u001b[1;32m      3\u001b[0m \u001b[38;5;28;01mdef\u001b[39;00m \u001b[38;5;21mfdiff\u001b[39m(y, n ,i):\n\u001b[1;32m      4\u001b[0m     \u001b[38;5;28;01mif\u001b[39;00m n \u001b[38;5;241m==\u001b[39m \u001b[38;5;241m0\u001b[39m:\n\u001b[0;32m----> 5\u001b[0m         \u001b[38;5;28;01mreturn\u001b[39;00m \u001b[43my\u001b[49m\u001b[43m[\u001b[49m\u001b[43mi\u001b[49m\u001b[43m]\u001b[49m\n\u001b[1;32m      7\u001b[0m     \u001b[38;5;28;01mreturn\u001b[39;00m fdiff(y,n\u001b[38;5;241m-\u001b[39m\u001b[38;5;241m1\u001b[39m,i\u001b[38;5;241m+\u001b[39m\u001b[38;5;241m1\u001b[39m) \u001b[38;5;241m-\u001b[39m fdiff(y,n\u001b[38;5;241m-\u001b[39m\u001b[38;5;241m1\u001b[39m,i)\n",
      "\u001b[0;31mIndexError\u001b[0m: list index out of range"
     ]
    }
   ],
   "source": [
    "fdiff(y,1,4)"
   ]
  },
  {
   "cell_type": "markdown",
   "id": "a03cec34",
   "metadata": {},
   "source": [
    "For Backward Difference\n",
    "$$ \\nabla^{n}(y_{i}) = \\nabla^{n-1}(y_{i} - y_{i-1})$$\n"
   ]
  },
  {
   "cell_type": "code",
   "execution_count": 5,
   "id": "e9c64b1d",
   "metadata": {},
   "outputs": [],
   "source": [
    "#Implementing backward differnce operator\n",
    "\n",
    "def bdiff(y, n ,i):\n",
    "    if n == 0:\n",
    "        return y[i]\n",
    "    \n",
    "    return bdiff(y,n-1,i) - bdiff(y,n-1,i-1)"
   ]
  },
  {
   "cell_type": "code",
   "execution_count": 6,
   "id": "ab9c66e5",
   "metadata": {},
   "outputs": [
    {
     "data": {
      "text/plain": [
       "14"
      ]
     },
     "execution_count": 6,
     "metadata": {},
     "output_type": "execute_result"
    }
   ],
   "source": [
    "bdiff(y,3,0)"
   ]
  },
  {
   "cell_type": "markdown",
   "id": "a15d82d0",
   "metadata": {},
   "source": [
    "For Central Difference\n"
   ]
  },
  {
   "cell_type": "code",
   "execution_count": 7,
   "id": "09340a7a",
   "metadata": {},
   "outputs": [],
   "source": [
    "#Implementing central differnce operator\n",
    "\n",
    "def cdiff(y, n ,i):\n",
    "    if n == 0:\n",
    "        return y[i]\n",
    "    \n",
    "    pass"
   ]
  },
  {
   "cell_type": "code",
   "execution_count": 8,
   "id": "8e2b93e8",
   "metadata": {},
   "outputs": [],
   "source": [
    "#Implementing forward differnce operator tabulated\n",
    "\n",
    "def fdiff_tabulated(y):\n",
    "    table = PrettyTable()\n",
    "    n = len(y)\n",
    "    for k in range(0,n):\n",
    "        table.add_column(str(k) + 'diff' , [fdiff(y,k,i) for i in range(0,n-k)] + ['' for _ in range(0,k)])\n",
    "    print(table)"
   ]
  },
  {
   "cell_type": "code",
   "execution_count": 9,
   "id": "35516267",
   "metadata": {},
   "outputs": [
    {
     "name": "stdout",
     "output_type": "stream",
     "text": [
      "+-------+-------+-------+-------+-------+\n",
      "| 0diff | 1diff | 2diff | 3diff | 4diff |\n",
      "+-------+-------+-------+-------+-------+\n",
      "|   0   |   5   |   -3  |   3   |  -12  |\n",
      "|   5   |   2   |   0   |   -9  |       |\n",
      "|   7   |   2   |   -9  |       |       |\n",
      "|   9   |   -7  |       |       |       |\n",
      "|   2   |       |       |       |       |\n",
      "+-------+-------+-------+-------+-------+\n"
     ]
    }
   ],
   "source": [
    "fdiff_tabulated(y)"
   ]
  },
  {
   "cell_type": "code",
   "execution_count": 10,
   "id": "e094773c",
   "metadata": {},
   "outputs": [],
   "source": [
    "#Implementing backward differnce operator tabulated\n",
    "\n",
    "def bdiff_tabulated(y):\n",
    "    table = PrettyTable()\n",
    "    n = len(y)\n",
    "    for k in range(0,n):\n",
    "        table.add_column(str(k) + 'diff' , ['' for _ in range(0,k)] + [bdiff(y,k,i) for i in range(k,n)] )\n",
    "    print(table)"
   ]
  },
  {
   "cell_type": "code",
   "execution_count": 11,
   "id": "93bd05a7",
   "metadata": {},
   "outputs": [
    {
     "name": "stdout",
     "output_type": "stream",
     "text": [
      "+-------+-------+-------+-------+-------+\n",
      "| 0diff | 1diff | 2diff | 3diff | 4diff |\n",
      "+-------+-------+-------+-------+-------+\n",
      "|   0   |       |       |       |       |\n",
      "|   5   |   5   |       |       |       |\n",
      "|   7   |   2   |   -3  |       |       |\n",
      "|   9   |   2   |   0   |   3   |       |\n",
      "|   2   |   -7  |   -9  |   -9  |  -12  |\n",
      "+-------+-------+-------+-------+-------+\n"
     ]
    }
   ],
   "source": [
    "bdiff_tabulated(y)"
   ]
  },
  {
   "cell_type": "code",
   "execution_count": null,
   "id": "b2cb1b5b",
   "metadata": {},
   "outputs": [],
   "source": []
  },
  {
   "cell_type": "code",
   "execution_count": null,
   "id": "748d2a1b",
   "metadata": {},
   "outputs": [],
   "source": []
  }
 ],
 "metadata": {
  "kernelspec": {
   "display_name": "mcscvenv",
   "language": "python",
   "name": "mcscvenv"
  },
  "language_info": {
   "codemirror_mode": {
    "name": "ipython",
    "version": 3
   },
   "file_extension": ".py",
   "mimetype": "text/x-python",
   "name": "python",
   "nbconvert_exporter": "python",
   "pygments_lexer": "ipython3",
   "version": "3.8.10"
  }
 },
 "nbformat": 4,
 "nbformat_minor": 5
}
