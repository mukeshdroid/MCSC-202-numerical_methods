{
 "cells": [
  {
   "cell_type": "markdown",
   "id": "9afffb42",
   "metadata": {},
   "source": [
    "\n",
    "# Interpolation\n"
   ]
  },
  {
   "cell_type": "markdown",
   "id": "596521de",
   "metadata": {},
   "source": [
    "Author : Mukesh Tiwari\n",
    "Date : 27/02/2022"
   ]
  },
  {
   "cell_type": "code",
   "execution_count": 27,
   "id": "55ed6de0",
   "metadata": {},
   "outputs": [],
   "source": [
    "from prettytable import PrettyTable"
   ]
  },
  {
   "cell_type": "code",
   "execution_count": 28,
   "id": "fed74406",
   "metadata": {},
   "outputs": [],
   "source": [
    "y = [30 , 11 , 24 , 9 , 15 ,35 ,36]"
   ]
  },
  {
   "cell_type": "markdown",
   "id": "3beabe27",
   "metadata": {},
   "source": [
    "$$ \\Delta^{n}(y_{i}) = \\text{ fdiff } (y,n,i)$$\n",
    "\n",
    "$$ \\nabla^{n}(y_{i}) = \\text{ bdiff } (y,n,i)$$\n",
    "\n",
    "$$ \\delta^{n}(y_{i}) = \\text{ cdiff } (y,n,i)$$"
   ]
  },
  {
   "cell_type": "markdown",
   "id": "87b4b2e5",
   "metadata": {},
   "source": [
    "For Forward Difference\n",
    "$$ \\Delta^{n}(y_{i}) = \\Delta^{n-1}(y_{i+1} - y_{i})$$\n"
   ]
  },
  {
   "cell_type": "code",
   "execution_count": 11,
   "id": "c9a8e6d8",
   "metadata": {},
   "outputs": [],
   "source": [
    "#Implementing forward differnce operator\n",
    "\n",
    "def fdiff(y, n ,i):\n",
    "    if n == 0:\n",
    "        return y[i]\n",
    "    \n",
    "    return fdiff(y,n-1,i+1) - fdiff(y,n-1,i)\n",
    "    "
   ]
  },
  {
   "cell_type": "code",
   "execution_count": 31,
   "id": "153b7dc6",
   "metadata": {},
   "outputs": [
    {
     "data": {
      "text/plain": [
       "20"
      ]
     },
     "execution_count": 31,
     "metadata": {},
     "output_type": "execute_result"
    }
   ],
   "source": [
    "fdiff(y,1,4)"
   ]
  },
  {
   "cell_type": "markdown",
   "id": "a03cec34",
   "metadata": {},
   "source": [
    "For Backward Difference\n",
    "$$ \\nabla^{n}(y_{i}) = \\nabla^{n-1}(y_{i} - y_{i-1})$$\n"
   ]
  },
  {
   "cell_type": "code",
   "execution_count": 29,
   "id": "e9c64b1d",
   "metadata": {},
   "outputs": [],
   "source": [
    "#Implementing backward differnce operator\n",
    "\n",
    "def bdiff(y, n ,i):\n",
    "    if n == 0:\n",
    "        return y[i]\n",
    "    \n",
    "    return bdiff(y,n-1,i) - bdiff(y,n-1,i-1)"
   ]
  },
  {
   "cell_type": "code",
   "execution_count": 35,
   "id": "ab9c66e5",
   "metadata": {},
   "outputs": [
    {
     "data": {
      "text/plain": [
       "20"
      ]
     },
     "execution_count": 35,
     "metadata": {},
     "output_type": "execute_result"
    }
   ],
   "source": [
    "bdiff(y,1,5)"
   ]
  },
  {
   "cell_type": "markdown",
   "id": "a15d82d0",
   "metadata": {},
   "source": [
    "For Central Difference\n"
   ]
  },
  {
   "cell_type": "code",
   "execution_count": 15,
   "id": "09340a7a",
   "metadata": {},
   "outputs": [],
   "source": [
    "#Implementing central differnce operator\n",
    "\n",
    "def cdiff(y, n ,i):\n",
    "    if n == 0:\n",
    "        return y[i]\n",
    "    \n",
    "    pass"
   ]
  },
  {
   "cell_type": "code",
   "execution_count": 22,
   "id": "8e2b93e8",
   "metadata": {},
   "outputs": [],
   "source": [
    "#Implementing forward differnce operator tabulated\n",
    "\n",
    "def fdiff_tabulated(y):\n",
    "    table = PrettyTable()\n",
    "    n = len(y)\n",
    "    for k in range(0,n):\n",
    "        table.add_column(str(k) + 'diff' , [fdiff(y,k,i) for i in range(0,n-k)] + ['' for _ in range(0,k)])\n",
    "    print(table)"
   ]
  },
  {
   "cell_type": "code",
   "execution_count": 25,
   "id": "35516267",
   "metadata": {},
   "outputs": [
    {
     "name": "stdout",
     "output_type": "stream",
     "text": [
      "+-------+-------+-------+-------+-------+-------+-------+\n",
      "| 0diff | 1diff | 2diff | 3diff | 4diff | 5diff | 6diff |\n",
      "+-------+-------+-------+-------+-------+-------+-------+\n",
      "|   30  |  -19  |   32  |  -60  |  109  |  -165 |  195  |\n",
      "|   11  |   13  |  -28  |   49  |  -56  |   30  |       |\n",
      "|   24  |  -15  |   21  |   -7  |  -26  |       |       |\n",
      "|   9   |   6   |   14  |  -33  |       |       |       |\n",
      "|   15  |   20  |  -19  |       |       |       |       |\n",
      "|   35  |   1   |       |       |       |       |       |\n",
      "|   36  |       |       |       |       |       |       |\n",
      "+-------+-------+-------+-------+-------+-------+-------+\n"
     ]
    }
   ],
   "source": [
    "fdiff_tabulated(y)"
   ]
  },
  {
   "cell_type": "code",
   "execution_count": 33,
   "id": "e094773c",
   "metadata": {},
   "outputs": [],
   "source": [
    "#Implementing backward differnce operator tabulated\n",
    "\n",
    "def bdiff_tabulated(y):\n",
    "    table = PrettyTable()\n",
    "    n = len(y)\n",
    "    for k in range(0,n):\n",
    "        table.add_column(str(k) + 'diff' , ['' for _ in range(0,k)] + [bdiff(y,k,i) for i in range(k,n)] )\n",
    "    print(table)"
   ]
  },
  {
   "cell_type": "code",
   "execution_count": 34,
   "id": "93bd05a7",
   "metadata": {},
   "outputs": [
    {
     "name": "stdout",
     "output_type": "stream",
     "text": [
      "+-------+-------+-------+-------+-------+-------+-------+\n",
      "| 0diff | 1diff | 2diff | 3diff | 4diff | 5diff | 6diff |\n",
      "+-------+-------+-------+-------+-------+-------+-------+\n",
      "|   30  |       |       |       |       |       |       |\n",
      "|   11  |  -19  |       |       |       |       |       |\n",
      "|   24  |   13  |   32  |       |       |       |       |\n",
      "|   9   |  -15  |  -28  |  -60  |       |       |       |\n",
      "|   15  |   6   |   21  |   49  |  109  |       |       |\n",
      "|   35  |   20  |   14  |   -7  |  -56  |  -165 |       |\n",
      "|   36  |   1   |  -19  |  -33  |  -26  |   30  |  195  |\n",
      "+-------+-------+-------+-------+-------+-------+-------+\n"
     ]
    }
   ],
   "source": [
    "bdiff_tabulated(y)"
   ]
  },
  {
   "cell_type": "code",
   "execution_count": null,
   "id": "b2cb1b5b",
   "metadata": {},
   "outputs": [],
   "source": []
  },
  {
   "cell_type": "code",
   "execution_count": null,
   "id": "748d2a1b",
   "metadata": {},
   "outputs": [],
   "source": []
  }
 ],
 "metadata": {
  "kernelspec": {
   "display_name": "mcscvenv",
   "language": "python",
   "name": "mcscvenv"
  },
  "language_info": {
   "codemirror_mode": {
    "name": "ipython",
    "version": 3
   },
   "file_extension": ".py",
   "mimetype": "text/x-python",
   "name": "python",
   "nbconvert_exporter": "python",
   "pygments_lexer": "ipython3",
   "version": "3.8.10"
  }
 },
 "nbformat": 4,
 "nbformat_minor": 5
}
