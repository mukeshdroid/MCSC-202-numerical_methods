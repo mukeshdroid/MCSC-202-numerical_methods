{
 "cells": [
  {
   "cell_type": "markdown",
   "id": "1700dc29",
   "metadata": {},
   "source": [
    "# Newton's Foward Difference Interpolating Polynomials"
   ]
  },
  {
   "cell_type": "markdown",
   "id": "bcb0b3f1",
   "metadata": {},
   "source": [
    "Name : Mukesh Tiwari\n",
    "Date : 03/04/2022"
   ]
  },
  {
   "cell_type": "code",
   "execution_count": 1,
   "id": "0f8418c0",
   "metadata": {},
   "outputs": [],
   "source": [
    "import numpy as np\n",
    "import math\n",
    "import matplotlib.pyplot as plt\n",
    "%matplotlib notebook\n",
    "\n",
    "from math import factorial as fact"
   ]
  },
  {
   "cell_type": "code",
   "execution_count": 2,
   "id": "049dc36c",
   "metadata": {},
   "outputs": [
    {
     "data": {
      "text/plain": [
       "6"
      ]
     },
     "execution_count": 2,
     "metadata": {},
     "output_type": "execute_result"
    }
   ],
   "source": [
    "fact(3)"
   ]
  },
  {
   "cell_type": "code",
   "execution_count": 3,
   "id": "df9fad9b",
   "metadata": {},
   "outputs": [],
   "source": [
    "#input data\n",
    "\n",
    "x_val = np.linspace(-5,5,19)\n",
    "\n",
    "#yval = np.e**xval\n",
    "y_val = np.sin(x_val) + 0.5 * np.cos(x_val) +  0.7 * np.sin(2*x_val) "
   ]
  },
  {
   "cell_type": "code",
   "execution_count": 4,
   "id": "40405187",
   "metadata": {},
   "outputs": [
    {
     "data": {
      "text/plain": [
       "array([-5.        , -4.44444444, -3.88888889, -3.33333333, -2.77777778,\n",
       "       -2.22222222, -1.66666667, -1.11111111, -0.55555556,  0.        ,\n",
       "        0.55555556,  1.11111111,  1.66666667,  2.22222222,  2.77777778,\n",
       "        3.33333333,  3.88888889,  4.44444444,  5.        ])"
      ]
     },
     "execution_count": 4,
     "metadata": {},
     "output_type": "execute_result"
    }
   ],
   "source": [
    "x_val"
   ]
  },
  {
   "cell_type": "code",
   "execution_count": 5,
   "id": "8ea918aa",
   "metadata": {},
   "outputs": [
    {
     "data": {
      "text/plain": [
       "array([ 1.48157015,  0.4745182 , -0.38507516, -0.5621749 , -0.357544  ,\n",
       "       -0.42335854, -0.90987216, -1.23101323, -0.72994615,  0.5       ,\n",
       "        1.57955371,  1.67467925,  0.81414861, -0.18296239, -0.57700214,\n",
       "       -0.4194991 , -0.34845402, -0.73926808, -1.19790796])"
      ]
     },
     "execution_count": 5,
     "metadata": {},
     "output_type": "execute_result"
    }
   ],
   "source": [
    "y_val"
   ]
  },
  {
   "cell_type": "code",
   "execution_count": 6,
   "id": "9240f297",
   "metadata": {},
   "outputs": [
    {
     "data": {
      "text/plain": [
       "1.5860421895913686"
      ]
     },
     "execution_count": 6,
     "metadata": {},
     "output_type": "execute_result"
    }
   ],
   "source": [
    "np.sin(1.2) + 0.5 * np.cos(1.2) +  0.7 * np.sin(2*(1.2)) "
   ]
  },
  {
   "cell_type": "code",
   "execution_count": 7,
   "id": "3578f678",
   "metadata": {},
   "outputs": [
    {
     "data": {
      "text/plain": [
       "0.5555555555555554"
      ]
     },
     "execution_count": 7,
     "metadata": {},
     "output_type": "execute_result"
    }
   ],
   "source": [
    "#defining constants\n",
    "\n",
    "h = x_val[1] - x_val[0]   \n",
    "n = len(y_val)\n",
    "h"
   ]
  },
  {
   "cell_type": "code",
   "execution_count": 8,
   "id": "407bbd44",
   "metadata": {},
   "outputs": [],
   "source": [
    "#Implementing forward differnce operator\n",
    "\n",
    "def fdiff(y, n ,i):\n",
    "    if n == 0:\n",
    "        return y[i]\n",
    "    \n",
    "    return fdiff(y,n-1,i+1) - fdiff(y,n-1,i)"
   ]
  },
  {
   "cell_type": "code",
   "execution_count": 9,
   "id": "fdc29779",
   "metadata": {},
   "outputs": [],
   "source": [
    "#Implementing p for a\n",
    "def p_val(p,i):\n",
    "    ans = 1\n",
    "    for j in range(0,i):\n",
    "        ans = ans * (p - j)\n",
    "    return ans / math.factorial(i)"
   ]
  },
  {
   "cell_type": "code",
   "execution_count": 10,
   "id": "032b7def",
   "metadata": {},
   "outputs": [],
   "source": [
    "def compute_y(x_val, y_val , x):\n",
    "    p = (x - x_val[0]) / (x_val[1] - x_val[0])\n",
    "    p_array = [p_val(p , i) for i in range(0,len(y_val))]\n",
    "    diff_array = [fdiff(y_val,i,0) for i in range(0, len(y_val))]\n",
    "    return np.dot(p_array , diff_array)"
   ]
  },
  {
   "cell_type": "code",
   "execution_count": 35,
   "id": "c49367d2",
   "metadata": {},
   "outputs": [],
   "source": [
    "def compute1_y(x_val , y_val , x):\n",
    "    p = (x - x_val[0]) / (x_val[1] - x_val[0])\n",
    "    print(p)\n",
    "    ans = fdiff(y_val,0,0)\n",
    "    prod = p\n",
    "    for i in range(1 , len(y_val)):\n",
    "        ans = ans + (prod * fdiff(y_val,i,0) / math.factorial(i))\n",
    "        prod = prod * (p - i)\n",
    "    return ans"
   ]
  },
  {
   "cell_type": "code",
   "execution_count": 36,
   "id": "f02881d8",
   "metadata": {},
   "outputs": [
    {
     "data": {
      "text/plain": [
       "-5.0"
      ]
     },
     "execution_count": 36,
     "metadata": {},
     "output_type": "execute_result"
    }
   ],
   "source": [
    "x_val[0]"
   ]
  },
  {
   "cell_type": "code",
   "execution_count": 37,
   "id": "2cb462f8",
   "metadata": {},
   "outputs": [
    {
     "name": "stdout",
     "output_type": "stream",
     "text": [
      "0.0\n"
     ]
    },
    {
     "data": {
      "text/plain": [
       "1.4815701450173104"
      ]
     },
     "execution_count": 37,
     "metadata": {},
     "output_type": "execute_result"
    }
   ],
   "source": [
    "compute1_y(x_val,y_val,-5)"
   ]
  },
  {
   "cell_type": "code",
   "execution_count": 14,
   "id": "0afda529",
   "metadata": {},
   "outputs": [],
   "source": [
    "def pol(coeff , x):\n",
    "    val = 0\n",
    "    for i in range(0,n):\n",
    "        val = val + coeff[i] * d(x,i)\n",
    "    return val"
   ]
  },
  {
   "cell_type": "code",
   "execution_count": 15,
   "id": "062c1819",
   "metadata": {},
   "outputs": [
    {
     "ename": "NameError",
     "evalue": "name 'coeff' is not defined",
     "output_type": "error",
     "traceback": [
      "\u001b[0;31m---------------------------------------------------------------------------\u001b[0m",
      "\u001b[0;31mNameError\u001b[0m                                 Traceback (most recent call last)",
      "Input \u001b[0;32mIn [15]\u001b[0m, in \u001b[0;36m<module>\u001b[0;34m\u001b[0m\n\u001b[0;32m----> 1\u001b[0m co \u001b[38;5;241m=\u001b[39m \u001b[43mcoeff\u001b[49m(yval)\n",
      "\u001b[0;31mNameError\u001b[0m: name 'coeff' is not defined"
     ]
    }
   ],
   "source": [
    "co = coeff(yval)"
   ]
  },
  {
   "cell_type": "code",
   "execution_count": null,
   "id": "727657c5",
   "metadata": {},
   "outputs": [],
   "source": [
    "fval = [np.sin(i) + 0.5 * np.cos(i) +  0.7 * np.sin(2*i) for i in np.linspace(-5,5,200)]\n",
    "pval = [pol(co , i) for i in np.linspace(-5,5,200)]\n",
    "fig , ax = plt.subplots()\n",
    "ax.plot(xval,yval , 'ko')\n",
    "ax.plot(np.linspace(-5,5,200), pval , 'blue')\n",
    "ax.plot(np.linspace(-5,5,200) , fval , 'red')\n",
    "\n",
    "fig.show()"
   ]
  },
  {
   "cell_type": "code",
   "execution_count": null,
   "id": "cf6d069c",
   "metadata": {},
   "outputs": [],
   "source": []
  },
  {
   "cell_type": "code",
   "execution_count": null,
   "id": "31b38a89",
   "metadata": {},
   "outputs": [],
   "source": []
  }
 ],
 "metadata": {
  "kernelspec": {
   "display_name": "mcscvenv",
   "language": "python",
   "name": "mcscvenv"
  },
  "language_info": {
   "codemirror_mode": {
    "name": "ipython",
    "version": 3
   },
   "file_extension": ".py",
   "mimetype": "text/x-python",
   "name": "python",
   "nbconvert_exporter": "python",
   "pygments_lexer": "ipython3",
   "version": "3.8.10"
  }
 },
 "nbformat": 4,
 "nbformat_minor": 5
}
