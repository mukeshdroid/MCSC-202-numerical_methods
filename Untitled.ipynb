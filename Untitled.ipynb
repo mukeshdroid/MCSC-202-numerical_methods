{
 "cells": [
  {
   "cell_type": "code",
   "execution_count": 8,
   "id": "1cb001d9",
   "metadata": {},
   "outputs": [
    {
     "data": {
      "text/plain": [
       "[0, 1, 2, 3, 4, 5]"
      ]
     },
     "execution_count": 8,
     "metadata": {},
     "output_type": "execute_result"
    }
   ],
   "source": [
    "A = list(range(0,6))\n",
    "A"
   ]
  },
  {
   "cell_type": "code",
   "execution_count": 12,
   "id": "489a5952",
   "metadata": {},
   "outputs": [
    {
     "data": {
      "text/plain": [
       "[0, 1, 4, 9, 16, 25]"
      ]
     },
     "execution_count": 12,
     "metadata": {},
     "output_type": "execute_result"
    }
   ],
   "source": [
    "B = [i**2 for i in range(0,6)]\n",
    "B"
   ]
  },
  {
   "cell_type": "code",
   "execution_count": 16,
   "id": "68f08f1e",
   "metadata": {},
   "outputs": [],
   "source": [
    "y = [0 , 5 , 7 , 9 , 2 ]"
   ]
  },
  {
   "cell_type": "code",
   "execution_count": 14,
   "id": "376d2087",
   "metadata": {},
   "outputs": [
    {
     "data": {
      "text/plain": [
       "[5, 2, 2, -7]"
      ]
     },
     "execution_count": 14,
     "metadata": {},
     "output_type": "execute_result"
    }
   ],
   "source": [
    "\n",
    "dely = [ y[i +1] - y[i] for i in range (0 , len(y) - 1)]\n",
    "dely"
   ]
  },
  {
   "cell_type": "code",
   "execution_count": 15,
   "id": "260f3c61",
   "metadata": {},
   "outputs": [],
   "source": [
    "def dely(y):\n",
    "    dely = [ y[i +1] - y[i] for i in range (0 , len(y) - 1)]\n",
    "    return dely"
   ]
  },
  {
   "cell_type": "code",
   "execution_count": 20,
   "id": "fcdb1318",
   "metadata": {},
   "outputs": [
    {
     "data": {
      "text/plain": [
       "[3, -9]"
      ]
     },
     "execution_count": 20,
     "metadata": {},
     "output_type": "execute_result"
    }
   ],
   "source": [
    "dely(dely(dely(y)))"
   ]
  },
  {
   "cell_type": "code",
   "execution_count": 21,
   "id": "f578b2f6",
   "metadata": {},
   "outputs": [],
   "source": [
    "def delyati(y,i):\n",
    "    return dely(y)[i]"
   ]
  },
  {
   "cell_type": "code",
   "execution_count": 22,
   "id": "053aae65",
   "metadata": {},
   "outputs": [
    {
     "data": {
      "text/plain": [
       "5"
      ]
     },
     "execution_count": 22,
     "metadata": {},
     "output_type": "execute_result"
    }
   ],
   "source": [
    "delyati(y,0)"
   ]
  },
  {
   "cell_type": "code",
   "execution_count": 23,
   "id": "13b4a9b0",
   "metadata": {},
   "outputs": [],
   "source": [
    "def delyr(y,n,i):\n",
    "    \n",
    "    if n == 0:\n",
    "        return y[i]\n",
    "    \n",
    "    return delyr(y,n-1,i+1) - delyr(y,n-1,i)"
   ]
  },
  {
   "cell_type": "code",
   "execution_count": 26,
   "id": "c5045b1d",
   "metadata": {},
   "outputs": [
    {
     "data": {
      "text/plain": [
       "-12"
      ]
     },
     "execution_count": 26,
     "metadata": {},
     "output_type": "execute_result"
    }
   ],
   "source": [
    "delyr(y,4,0)"
   ]
  },
  {
   "cell_type": "code",
   "execution_count": null,
   "id": "f6496036",
   "metadata": {},
   "outputs": [],
   "source": []
  }
 ],
 "metadata": {
  "kernelspec": {
   "display_name": "mcscvenv",
   "language": "python",
   "name": "mcscvenv"
  },
  "language_info": {
   "codemirror_mode": {
    "name": "ipython",
    "version": 3
   },
   "file_extension": ".py",
   "mimetype": "text/x-python",
   "name": "python",
   "nbconvert_exporter": "python",
   "pygments_lexer": "ipython3",
   "version": "3.8.10"
  }
 },
 "nbformat": 4,
 "nbformat_minor": 5
}
